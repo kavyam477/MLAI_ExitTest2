{
 "cells": [
  {
   "cell_type": "code",
   "execution_count": 2,
   "id": "772108a2",
   "metadata": {},
   "outputs": [
    {
     "name": "stdout",
     "output_type": "stream",
     "text": [
      "Collecting moviepy\n",
      "  Downloading moviepy-1.0.3.tar.gz (388 kB)\n",
      "Note: you may need to restart the kernel to use updated packages.\n",
      "     ------------------------------------ 388.3/388.3 kB 327.1 kB/s eta 0:00:00\n",
      "  Preparing metadata (setup.py): started\n",
      "  Preparing metadata (setup.py): finished with status 'done'\n",
      "Collecting decorator<5.0,>=4.0.2\n",
      "  Downloading decorator-4.4.2-py2.py3-none-any.whl (9.2 kB)\n",
      "Requirement already satisfied: tqdm<5.0,>=4.11.2 in c:\\users\\user\\anaconda3\\lib\\site-packages (from moviepy) (4.64.1)\n",
      "Requirement already satisfied: requests<3.0,>=2.8.1 in c:\\users\\user\\anaconda3\\lib\\site-packages (from moviepy) (2.28.1)\n",
      "Collecting proglog<=1.0.0\n",
      "  Downloading proglog-0.1.10-py3-none-any.whl (6.1 kB)\n",
      "Requirement already satisfied: numpy>=1.17.3 in c:\\users\\user\\anaconda3\\lib\\site-packages (from moviepy) (1.23.5)\n",
      "Requirement already satisfied: imageio<3.0,>=2.5 in c:\\users\\user\\anaconda3\\lib\\site-packages (from moviepy) (2.19.3)\n",
      "Collecting imageio_ffmpeg>=0.2.0\n",
      "  Downloading imageio_ffmpeg-0.4.8-py3-none-win_amd64.whl (22.6 MB)\n",
      "     -------------------------------------- 22.6/22.6 MB 330.2 kB/s eta 0:00:00\n",
      "Requirement already satisfied: pillow>=8.3.2 in c:\\users\\user\\anaconda3\\lib\\site-packages (from imageio<3.0,>=2.5->moviepy) (9.3.0)\n",
      "Requirement already satisfied: charset-normalizer<3,>=2 in c:\\users\\user\\anaconda3\\lib\\site-packages (from requests<3.0,>=2.8.1->moviepy) (2.0.4)\n",
      "Requirement already satisfied: urllib3<1.27,>=1.21.1 in c:\\users\\user\\anaconda3\\lib\\site-packages (from requests<3.0,>=2.8.1->moviepy) (1.26.13)\n",
      "Requirement already satisfied: idna<4,>=2.5 in c:\\users\\user\\anaconda3\\lib\\site-packages (from requests<3.0,>=2.8.1->moviepy) (3.4)\n",
      "Requirement already satisfied: certifi>=2017.4.17 in c:\\users\\user\\anaconda3\\lib\\site-packages (from requests<3.0,>=2.8.1->moviepy) (2022.12.7)\n",
      "Requirement already satisfied: colorama in c:\\users\\user\\anaconda3\\lib\\site-packages (from tqdm<5.0,>=4.11.2->moviepy) (0.4.6)\n",
      "Building wheels for collected packages: moviepy\n",
      "  Building wheel for moviepy (setup.py): started\n",
      "  Building wheel for moviepy (setup.py): finished with status 'done'\n",
      "  Created wheel for moviepy: filename=moviepy-1.0.3-py3-none-any.whl size=110728 sha256=bb7d3549c8a1705d885cc300c4c26b1c4c1dffea5396a240947a31c14f18357c\n",
      "  Stored in directory: c:\\users\\user\\appdata\\local\\pip\\cache\\wheels\\f0\\23\\29\\c6379bde05643dcb1cd56f5ad432f26acb3ca7db075dc0c35f\n",
      "Successfully built moviepy\n",
      "Installing collected packages: imageio_ffmpeg, decorator, proglog, moviepy\n",
      "  Attempting uninstall: decorator\n",
      "    Found existing installation: decorator 5.1.1\n",
      "    Uninstalling decorator-5.1.1:\n",
      "      Successfully uninstalled decorator-5.1.1\n",
      "Successfully installed decorator-4.4.2 imageio_ffmpeg-0.4.8 moviepy-1.0.3 proglog-0.1.10\n"
     ]
    }
   ],
   "source": [
    "pip install moviepy"
   ]
  },
  {
   "cell_type": "code",
   "execution_count": 1,
   "id": "9cbe8bc6",
   "metadata": {},
   "outputs": [],
   "source": [
    "#importing necessary libraries\n",
    "import numpy as np # for numerical operations\n",
    "from moviepy.editor import VideoFileClip, concatenate"
   ]
  },
  {
   "cell_type": "code",
   "execution_count": 2,
   "id": "e44799ab",
   "metadata": {},
   "outputs": [],
   "source": [
    "clip = VideoFileClip(\"Football.mp4\")\n",
    "cut = lambda i: clip.audio.subclip(i,i+1).to_soundarray(fps=22000) \n",
    "volume = lambda array: np.sqrt(((1.0*array)**2).mean())\n",
    "volumes = [volume(cut(i)) for i in range(0,int(clip.audio.duration-2))]\n",
    "averaged_volumes = np.array([sum(volumes[i:i+10])/10\n",
    "                             for i in range(len(volumes)-10)])"
   ]
  },
  {
   "cell_type": "code",
   "execution_count": 3,
   "id": "3fa60296",
   "metadata": {},
   "outputs": [],
   "source": [
    "increases = np.diff(averaged_volumes)[:-1]>=0\n",
    "decreases = np.diff(averaged_volumes)[1:]<=0\n",
    "peaks_times = (increases * decreases).nonzero()[0]\n",
    "peaks_vols = averaged_volumes[peaks_times]\n",
    "peaks_times = peaks_times[peaks_vols>np.percentile(peaks_vols,90)]"
   ]
  },
  {
   "cell_type": "code",
   "execution_count": 5,
   "id": "913dd876",
   "metadata": {},
   "outputs": [],
   "source": [
    "final_times=[peaks_times[0]]\n",
    "for t in peaks_times:\n",
    "    if (t - final_times[-1]) < 60:\n",
    "        if averaged_volumes[t] > averaged_volumes[final_times[-1]]:\n",
    "            final_times[-1] = t\n",
    "    else:\n",
    "        final_times.append(t)"
   ]
  },
  {
   "cell_type": "code",
   "execution_count": 7,
   "id": "de8e439e",
   "metadata": {
    "scrolled": true
   },
   "outputs": [
    {
     "name": "stdout",
     "output_type": "stream",
     "text": [
      "Moviepy - Building video fb_cuts.mp4.\n",
      "MoviePy - Writing audio in fb_cutsTEMP_MPY_wvf_snd.mp3\n"
     ]
    },
    {
     "name": "stderr",
     "output_type": "stream",
     "text": [
      "                                                                                                                       \r"
     ]
    },
    {
     "name": "stdout",
     "output_type": "stream",
     "text": [
      "MoviePy - Done.\n",
      "Moviepy - Writing video fb_cuts.mp4\n",
      "\n"
     ]
    },
    {
     "name": "stderr",
     "output_type": "stream",
     "text": [
      "                                                                                                                       \r"
     ]
    },
    {
     "name": "stdout",
     "output_type": "stream",
     "text": [
      "Moviepy - Done !\n",
      "Moviepy - video ready fb_cuts.mp4\n"
     ]
    }
   ],
   "source": [
    "final = concatenate([clip.subclip(max(t-5,0),min(t+5, clip.duration))\n",
    "                     for t in final_times])\n",
    "final.to_videofile('fb_cuts.mp4') # low quality is the default"
   ]
  },
  {
   "cell_type": "code",
   "execution_count": null,
   "id": "9864b0d9",
   "metadata": {},
   "outputs": [],
   "source": []
  }
 ],
 "metadata": {
  "kernelspec": {
   "display_name": "Python 3 (ipykernel)",
   "language": "python",
   "name": "python3"
  },
  "language_info": {
   "codemirror_mode": {
    "name": "ipython",
    "version": 3
   },
   "file_extension": ".py",
   "mimetype": "text/x-python",
   "name": "python",
   "nbconvert_exporter": "python",
   "pygments_lexer": "ipython3",
   "version": "3.9.7"
  }
 },
 "nbformat": 4,
 "nbformat_minor": 5
}
